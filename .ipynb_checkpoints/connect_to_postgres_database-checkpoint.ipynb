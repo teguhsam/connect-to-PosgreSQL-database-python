{
 "cells": [
  {
   "cell_type": "markdown",
   "metadata": {},
   "source": [
    "# Create a database called 'Wine'"
   ]
  },
  {
   "cell_type": "markdown",
   "metadata": {},
   "source": [
    "# Import modules"
   ]
  },
  {
   "cell_type": "code",
   "execution_count": 46,
   "metadata": {
    "ExecuteTime": {
     "end_time": "2020-02-15T19:00:36.592886Z",
     "start_time": "2020-02-15T19:00:36.589568Z"
    }
   },
   "outputs": [],
   "source": [
    "import pandas as pd "
   ]
  },
  {
   "cell_type": "markdown",
   "metadata": {},
   "source": [
    "# Import a table for csv"
   ]
  },
  {
   "cell_type": "code",
   "execution_count": 47,
   "metadata": {
    "ExecuteTime": {
     "end_time": "2020-02-15T19:00:37.300364Z",
     "start_time": "2020-02-15T19:00:36.597555Z"
    }
   },
   "outputs": [
    {
     "name": "stdout",
     "output_type": "stream",
     "text": [
      "This dataset has: 150930 columns 10 rows\n"
     ]
    }
   ],
   "source": [
    "raw = pd.read_csv(\"dataset/winemag-data_first150k.csv\").drop(\"Unnamed: 0\", axis=1)\n",
    "print(\"This dataset has: {} columns {} rows\".format(raw.shape[0], raw.shape[1]))"
   ]
  },
  {
   "cell_type": "code",
   "execution_count": 48,
   "metadata": {
    "ExecuteTime": {
     "end_time": "2020-02-15T19:00:37.316134Z",
     "start_time": "2020-02-15T19:00:37.303685Z"
    }
   },
   "outputs": [
    {
     "data": {
      "text/html": [
       "<div>\n",
       "<style scoped>\n",
       "    .dataframe tbody tr th:only-of-type {\n",
       "        vertical-align: middle;\n",
       "    }\n",
       "\n",
       "    .dataframe tbody tr th {\n",
       "        vertical-align: top;\n",
       "    }\n",
       "\n",
       "    .dataframe thead th {\n",
       "        text-align: right;\n",
       "    }\n",
       "</style>\n",
       "<table border=\"1\" class=\"dataframe\">\n",
       "  <thead>\n",
       "    <tr style=\"text-align: right;\">\n",
       "      <th></th>\n",
       "      <th>country</th>\n",
       "      <th>description</th>\n",
       "      <th>designation</th>\n",
       "      <th>points</th>\n",
       "      <th>price</th>\n",
       "      <th>province</th>\n",
       "      <th>region_1</th>\n",
       "      <th>region_2</th>\n",
       "      <th>variety</th>\n",
       "      <th>winery</th>\n",
       "    </tr>\n",
       "  </thead>\n",
       "  <tbody>\n",
       "    <tr>\n",
       "      <td>0</td>\n",
       "      <td>US</td>\n",
       "      <td>This tremendous 100% varietal wine hails from ...</td>\n",
       "      <td>Martha's Vineyard</td>\n",
       "      <td>96</td>\n",
       "      <td>235.0</td>\n",
       "      <td>California</td>\n",
       "      <td>Napa Valley</td>\n",
       "      <td>Napa</td>\n",
       "      <td>Cabernet Sauvignon</td>\n",
       "      <td>Heitz</td>\n",
       "    </tr>\n",
       "    <tr>\n",
       "      <td>1</td>\n",
       "      <td>Spain</td>\n",
       "      <td>Ripe aromas of fig, blackberry and cassis are ...</td>\n",
       "      <td>Carodorum Selección Especial Reserva</td>\n",
       "      <td>96</td>\n",
       "      <td>110.0</td>\n",
       "      <td>Northern Spain</td>\n",
       "      <td>Toro</td>\n",
       "      <td>NaN</td>\n",
       "      <td>Tinta de Toro</td>\n",
       "      <td>Bodega Carmen Rodríguez</td>\n",
       "    </tr>\n",
       "    <tr>\n",
       "      <td>2</td>\n",
       "      <td>US</td>\n",
       "      <td>Mac Watson honors the memory of a wine once ma...</td>\n",
       "      <td>Special Selected Late Harvest</td>\n",
       "      <td>96</td>\n",
       "      <td>90.0</td>\n",
       "      <td>California</td>\n",
       "      <td>Knights Valley</td>\n",
       "      <td>Sonoma</td>\n",
       "      <td>Sauvignon Blanc</td>\n",
       "      <td>Macauley</td>\n",
       "    </tr>\n",
       "    <tr>\n",
       "      <td>3</td>\n",
       "      <td>US</td>\n",
       "      <td>This spent 20 months in 30% new French oak, an...</td>\n",
       "      <td>Reserve</td>\n",
       "      <td>96</td>\n",
       "      <td>65.0</td>\n",
       "      <td>Oregon</td>\n",
       "      <td>Willamette Valley</td>\n",
       "      <td>Willamette Valley</td>\n",
       "      <td>Pinot Noir</td>\n",
       "      <td>Ponzi</td>\n",
       "    </tr>\n",
       "    <tr>\n",
       "      <td>4</td>\n",
       "      <td>France</td>\n",
       "      <td>This is the top wine from La Bégude, named aft...</td>\n",
       "      <td>La Brûlade</td>\n",
       "      <td>95</td>\n",
       "      <td>66.0</td>\n",
       "      <td>Provence</td>\n",
       "      <td>Bandol</td>\n",
       "      <td>NaN</td>\n",
       "      <td>Provence red blend</td>\n",
       "      <td>Domaine de la Bégude</td>\n",
       "    </tr>\n",
       "  </tbody>\n",
       "</table>\n",
       "</div>"
      ],
      "text/plain": [
       "  country                                        description  \\\n",
       "0      US  This tremendous 100% varietal wine hails from ...   \n",
       "1   Spain  Ripe aromas of fig, blackberry and cassis are ...   \n",
       "2      US  Mac Watson honors the memory of a wine once ma...   \n",
       "3      US  This spent 20 months in 30% new French oak, an...   \n",
       "4  France  This is the top wine from La Bégude, named aft...   \n",
       "\n",
       "                            designation  points  price        province  \\\n",
       "0                     Martha's Vineyard      96  235.0      California   \n",
       "1  Carodorum Selección Especial Reserva      96  110.0  Northern Spain   \n",
       "2         Special Selected Late Harvest      96   90.0      California   \n",
       "3                               Reserve      96   65.0          Oregon   \n",
       "4                            La Brûlade      95   66.0        Provence   \n",
       "\n",
       "            region_1           region_2             variety  \\\n",
       "0        Napa Valley               Napa  Cabernet Sauvignon   \n",
       "1               Toro                NaN       Tinta de Toro   \n",
       "2     Knights Valley             Sonoma     Sauvignon Blanc   \n",
       "3  Willamette Valley  Willamette Valley          Pinot Noir   \n",
       "4             Bandol                NaN  Provence red blend   \n",
       "\n",
       "                    winery  \n",
       "0                    Heitz  \n",
       "1  Bodega Carmen Rodríguez  \n",
       "2                 Macauley  \n",
       "3                    Ponzi  \n",
       "4     Domaine de la Bégude  "
      ]
     },
     "execution_count": 48,
     "metadata": {},
     "output_type": "execute_result"
    }
   ],
   "source": [
    "raw.head()"
   ]
  },
  {
   "cell_type": "markdown",
   "metadata": {},
   "source": [
    "# Check for missing values"
   ]
  },
  {
   "cell_type": "code",
   "execution_count": 49,
   "metadata": {
    "ExecuteTime": {
     "end_time": "2020-02-15T19:00:37.408249Z",
     "start_time": "2020-02-15T19:00:37.322548Z"
    }
   },
   "outputs": [
    {
     "name": "stdout",
     "output_type": "stream",
     "text": [
      "<class 'pandas.core.frame.DataFrame'>\n",
      "RangeIndex: 150930 entries, 0 to 150929\n",
      "Data columns (total 10 columns):\n",
      "country        150925 non-null object\n",
      "description    150930 non-null object\n",
      "designation    105195 non-null object\n",
      "points         150930 non-null int64\n",
      "price          137235 non-null float64\n",
      "province       150925 non-null object\n",
      "region_1       125870 non-null object\n",
      "region_2       60953 non-null object\n",
      "variety        150930 non-null object\n",
      "winery         150930 non-null object\n",
      "dtypes: float64(1), int64(1), object(8)\n",
      "memory usage: 11.5+ MB\n"
     ]
    }
   ],
   "source": [
    "raw.info()"
   ]
  },
  {
   "cell_type": "markdown",
   "metadata": {},
   "source": [
    "# Check for any duplicate rows in description"
   ]
  },
  {
   "cell_type": "code",
   "execution_count": 50,
   "metadata": {
    "ExecuteTime": {
     "end_time": "2020-02-15T19:00:37.524466Z",
     "start_time": "2020-02-15T19:00:37.411891Z"
    }
   },
   "outputs": [],
   "source": [
    "descrip_unique_row = len(raw['description'].unique())"
   ]
  },
  {
   "cell_type": "code",
   "execution_count": 51,
   "metadata": {
    "ExecuteTime": {
     "end_time": "2020-02-15T19:00:37.648070Z",
     "start_time": "2020-02-15T19:00:37.527036Z"
    }
   },
   "outputs": [
    {
     "data": {
      "text/html": [
       "<div>\n",
       "<style scoped>\n",
       "    .dataframe tbody tr th:only-of-type {\n",
       "        vertical-align: middle;\n",
       "    }\n",
       "\n",
       "    .dataframe tbody tr th {\n",
       "        vertical-align: top;\n",
       "    }\n",
       "\n",
       "    .dataframe thead th {\n",
       "        text-align: right;\n",
       "    }\n",
       "</style>\n",
       "<table border=\"1\" class=\"dataframe\">\n",
       "  <thead>\n",
       "    <tr style=\"text-align: right;\">\n",
       "      <th></th>\n",
       "      <th>country</th>\n",
       "      <th>description</th>\n",
       "      <th>designation</th>\n",
       "      <th>points</th>\n",
       "      <th>price</th>\n",
       "      <th>province</th>\n",
       "      <th>region_1</th>\n",
       "      <th>region_2</th>\n",
       "      <th>variety</th>\n",
       "      <th>winery</th>\n",
       "    </tr>\n",
       "  </thead>\n",
       "  <tbody>\n",
       "    <tr>\n",
       "      <td>300</td>\n",
       "      <td>US</td>\n",
       "      <td>This standout Rocks District wine brings earth...</td>\n",
       "      <td>The Funk Estate</td>\n",
       "      <td>94</td>\n",
       "      <td>60.0</td>\n",
       "      <td>Washington</td>\n",
       "      <td>Walla Walla Valley (WA)</td>\n",
       "      <td>Columbia Valley</td>\n",
       "      <td>Syrah</td>\n",
       "      <td>Saviah</td>\n",
       "    </tr>\n",
       "    <tr>\n",
       "      <td>305</td>\n",
       "      <td>New Zealand</td>\n",
       "      <td>Yields were down in 2015, but intensity is up,...</td>\n",
       "      <td>Maté's Vineyard</td>\n",
       "      <td>94</td>\n",
       "      <td>57.0</td>\n",
       "      <td>Kumeu</td>\n",
       "      <td>NaN</td>\n",
       "      <td>NaN</td>\n",
       "      <td>Chardonnay</td>\n",
       "      <td>Kumeu River</td>\n",
       "    </tr>\n",
       "    <tr>\n",
       "      <td>420</td>\n",
       "      <td>US</td>\n",
       "      <td>Though just four years old, this wine seems ad...</td>\n",
       "      <td>NaN</td>\n",
       "      <td>87</td>\n",
       "      <td>36.0</td>\n",
       "      <td>Washington</td>\n",
       "      <td>Columbia Valley (WA)</td>\n",
       "      <td>Columbia Valley</td>\n",
       "      <td>Cabernet Sauvignon</td>\n",
       "      <td>Dussek Family Cellars</td>\n",
       "    </tr>\n",
       "    <tr>\n",
       "      <td>422</td>\n",
       "      <td>US</td>\n",
       "      <td>Tawny in color and wafting of potpourri and fa...</td>\n",
       "      <td>NaN</td>\n",
       "      <td>87</td>\n",
       "      <td>20.0</td>\n",
       "      <td>New York</td>\n",
       "      <td>Finger Lakes</td>\n",
       "      <td>Finger Lakes</td>\n",
       "      <td>Cabernet Franc</td>\n",
       "      <td>Serenity</td>\n",
       "    </tr>\n",
       "    <tr>\n",
       "      <td>423</td>\n",
       "      <td>US</td>\n",
       "      <td>The aromas on this wine are quite light, conve...</td>\n",
       "      <td>Weinbau</td>\n",
       "      <td>87</td>\n",
       "      <td>32.0</td>\n",
       "      <td>Washington</td>\n",
       "      <td>Wahluke Slope</td>\n",
       "      <td>Columbia Valley</td>\n",
       "      <td>Grenache</td>\n",
       "      <td>Sol Stone</td>\n",
       "    </tr>\n",
       "  </tbody>\n",
       "</table>\n",
       "</div>"
      ],
      "text/plain": [
       "         country                                        description  \\\n",
       "300           US  This standout Rocks District wine brings earth...   \n",
       "305  New Zealand  Yields were down in 2015, but intensity is up,...   \n",
       "420           US  Though just four years old, this wine seems ad...   \n",
       "422           US  Tawny in color and wafting of potpourri and fa...   \n",
       "423           US  The aromas on this wine are quite light, conve...   \n",
       "\n",
       "         designation  points  price    province                 region_1  \\\n",
       "300  The Funk Estate      94   60.0  Washington  Walla Walla Valley (WA)   \n",
       "305  Maté's Vineyard      94   57.0       Kumeu                      NaN   \n",
       "420              NaN      87   36.0  Washington     Columbia Valley (WA)   \n",
       "422              NaN      87   20.0    New York             Finger Lakes   \n",
       "423          Weinbau      87   32.0  Washington            Wahluke Slope   \n",
       "\n",
       "            region_2             variety                 winery  \n",
       "300  Columbia Valley               Syrah                 Saviah  \n",
       "305              NaN          Chardonnay            Kumeu River  \n",
       "420  Columbia Valley  Cabernet Sauvignon  Dussek Family Cellars  \n",
       "422     Finger Lakes      Cabernet Franc               Serenity  \n",
       "423  Columbia Valley            Grenache              Sol Stone  "
      ]
     },
     "execution_count": 51,
     "metadata": {},
     "output_type": "execute_result"
    }
   ],
   "source": [
    "wine_duplicates = raw[raw.duplicated('description')]\n",
    "wine_duplicates.head()"
   ]
  },
  {
   "cell_type": "code",
   "execution_count": 52,
   "metadata": {
    "ExecuteTime": {
     "end_time": "2020-02-15T19:00:37.659028Z",
     "start_time": "2020-02-15T19:00:37.652625Z"
    }
   },
   "outputs": [],
   "source": [
    "duplicate_example = wine_duplicates['description'].iloc[0]"
   ]
  },
  {
   "cell_type": "code",
   "execution_count": 53,
   "metadata": {
    "ExecuteTime": {
     "end_time": "2020-02-15T19:00:37.689433Z",
     "start_time": "2020-02-15T19:00:37.662524Z"
    }
   },
   "outputs": [
    {
     "data": {
      "text/html": [
       "<div>\n",
       "<style scoped>\n",
       "    .dataframe tbody tr th:only-of-type {\n",
       "        vertical-align: middle;\n",
       "    }\n",
       "\n",
       "    .dataframe tbody tr th {\n",
       "        vertical-align: top;\n",
       "    }\n",
       "\n",
       "    .dataframe thead th {\n",
       "        text-align: right;\n",
       "    }\n",
       "</style>\n",
       "<table border=\"1\" class=\"dataframe\">\n",
       "  <thead>\n",
       "    <tr style=\"text-align: right;\">\n",
       "      <th></th>\n",
       "      <th>country</th>\n",
       "      <th>description</th>\n",
       "      <th>designation</th>\n",
       "      <th>points</th>\n",
       "      <th>price</th>\n",
       "      <th>province</th>\n",
       "      <th>region_1</th>\n",
       "      <th>region_2</th>\n",
       "      <th>variety</th>\n",
       "      <th>winery</th>\n",
       "    </tr>\n",
       "  </thead>\n",
       "  <tbody>\n",
       "    <tr>\n",
       "      <td>29</td>\n",
       "      <td>US</td>\n",
       "      <td>This standout Rocks District wine brings earth...</td>\n",
       "      <td>The Funk Estate</td>\n",
       "      <td>94</td>\n",
       "      <td>60.0</td>\n",
       "      <td>Washington</td>\n",
       "      <td>Walla Walla Valley (WA)</td>\n",
       "      <td>Columbia Valley</td>\n",
       "      <td>Syrah</td>\n",
       "      <td>Saviah</td>\n",
       "    </tr>\n",
       "    <tr>\n",
       "      <td>300</td>\n",
       "      <td>US</td>\n",
       "      <td>This standout Rocks District wine brings earth...</td>\n",
       "      <td>The Funk Estate</td>\n",
       "      <td>94</td>\n",
       "      <td>60.0</td>\n",
       "      <td>Washington</td>\n",
       "      <td>Walla Walla Valley (WA)</td>\n",
       "      <td>Columbia Valley</td>\n",
       "      <td>Syrah</td>\n",
       "      <td>Saviah</td>\n",
       "    </tr>\n",
       "  </tbody>\n",
       "</table>\n",
       "</div>"
      ],
      "text/plain": [
       "    country                                        description  \\\n",
       "29       US  This standout Rocks District wine brings earth...   \n",
       "300      US  This standout Rocks District wine brings earth...   \n",
       "\n",
       "         designation  points  price    province                 region_1  \\\n",
       "29   The Funk Estate      94   60.0  Washington  Walla Walla Valley (WA)   \n",
       "300  The Funk Estate      94   60.0  Washington  Walla Walla Valley (WA)   \n",
       "\n",
       "            region_2 variety  winery  \n",
       "29   Columbia Valley   Syrah  Saviah  \n",
       "300  Columbia Valley   Syrah  Saviah  "
      ]
     },
     "execution_count": 53,
     "metadata": {},
     "output_type": "execute_result"
    }
   ],
   "source": [
    "raw[raw['description']== duplicate_example]"
   ]
  },
  {
   "cell_type": "markdown",
   "metadata": {},
   "source": [
    "As we can see above, some of the columns are duplicates. Before uploading the data to the database, we want to remove all duplicates. "
   ]
  },
  {
   "cell_type": "code",
   "execution_count": 54,
   "metadata": {
    "ExecuteTime": {
     "end_time": "2020-02-15T19:00:37.827569Z",
     "start_time": "2020-02-15T19:00:37.691440Z"
    }
   },
   "outputs": [
    {
     "name": "stdout",
     "output_type": "stream",
     "text": [
      "This dataset has: 97821 columns 10 rows\n"
     ]
    }
   ],
   "source": [
    "wine = raw.drop_duplicates(subset='description')\n",
    "print(\"This dataset has: {} columns {} rows\".format(wine.shape[0], wine.shape[1]))"
   ]
  },
  {
   "cell_type": "code",
   "execution_count": 68,
   "metadata": {
    "ExecuteTime": {
     "end_time": "2020-02-15T19:06:18.633970Z",
     "start_time": "2020-02-15T19:06:18.630111Z"
    }
   },
   "outputs": [],
   "source": [
    "def unique_item_to_df(origin_df, col_name):\n",
    "    df_to_list = origin_df[col_name].unique().tolist()\n",
    "    return(pd.DataFrame({'col_name': df_to_list}))"
   ]
  },
  {
   "cell_type": "code",
   "execution_count": 140,
   "metadata": {
    "ExecuteTime": {
     "end_time": "2020-02-15T20:13:33.759665Z",
     "start_time": "2020-02-15T20:13:33.695742Z"
    }
   },
   "outputs": [],
   "source": [
    "unique_country_df = unique_item_to_df(wine, 'country')\n",
    "unique_designation_df = unique_item_to_df(wine, 'designation')\n",
    "unique_province_df = unique_item_to_df(wine, 'province')\n",
    "unique_region1_df = unique_item_to_df(wine, 'region_1')\n",
    "unique_region2_df = unique_item_to_df(wine, 'region_2')\n",
    "unique_variety_df = unique_item_to_df(wine, 'variety')\n",
    "unique_winery_df = unique_item_to_df(wine, 'winery')"
   ]
  },
  {
   "cell_type": "markdown",
   "metadata": {
    "ExecuteTime": {
     "end_time": "2020-02-15T19:44:34.706494Z",
     "start_time": "2020-02-15T19:44:34.702682Z"
    }
   },
   "source": [
    "# Interact with Database Using psychopg2"
   ]
  },
  {
   "cell_type": "markdown",
   "metadata": {},
   "source": [
    "## Import package for connecting to database"
   ]
  },
  {
   "cell_type": "markdown",
   "metadata": {
    "ExecuteTime": {
     "end_time": "2020-02-14T08:37:37.462778Z",
     "start_time": "2020-02-14T08:37:37.440866Z"
    }
   },
   "source": [
    "Pip Install\n",
    "https://www.a2hosting.ca/kb/developer-corner/postgresql/connecting-to-postgresql-using-python"
   ]
  },
  {
   "cell_type": "markdown",
   "metadata": {
    "ExecuteTime": {
     "end_time": "2020-02-14T08:44:51.275684Z",
     "start_time": "2020-02-14T08:44:51.098475Z"
    }
   },
   "source": [
    "https://stackoverflow.com/questions/33866695/install-psycopg2-on-mac-osx-10-9-5\n",
    "\n",
    "In terminal:\n",
    "* pip install psycopg2-binary"
   ]
  },
  {
   "cell_type": "markdown",
   "metadata": {},
   "source": [
    "## Import Package After Installing"
   ]
  },
  {
   "cell_type": "code",
   "execution_count": 22,
   "metadata": {
    "ExecuteTime": {
     "end_time": "2020-02-15T07:21:34.993164Z",
     "start_time": "2020-02-15T07:21:34.989013Z"
    }
   },
   "outputs": [],
   "source": [
    "import psycopg2"
   ]
  },
  {
   "cell_type": "markdown",
   "metadata": {},
   "source": [
    "## Create Connection"
   ]
  },
  {
   "cell_type": "code",
   "execution_count": 105,
   "metadata": {
    "ExecuteTime": {
     "end_time": "2020-02-15T19:50:44.239721Z",
     "start_time": "2020-02-15T19:50:44.226989Z"
    }
   },
   "outputs": [],
   "source": [
    "DB_NAME = \"wine\"\n",
    "DB_USER = \"postgres\"\n",
    "DB_HOST = \"localhost\"\n",
    "DB_PASS = open(\"password.txt\", \"r\").read()\n",
    "DB_PORT = \"5432\""
   ]
  },
  {
   "cell_type": "code",
   "execution_count": 91,
   "metadata": {
    "ExecuteTime": {
     "end_time": "2020-02-15T19:32:10.558365Z",
     "start_time": "2020-02-15T19:32:10.539939Z"
    }
   },
   "outputs": [
    {
     "name": "stdout",
     "output_type": "stream",
     "text": [
      "Database opened successfully\n"
     ]
    }
   ],
   "source": [
    "try:\n",
    "    conn = psycopg2.connect(database = DB_NAME, \n",
    "                            user = DB_USER, \n",
    "                            password = DB_PASS, \n",
    "                            host = DB_HOST, \n",
    "                            port = DB_PORT)\n",
    "    print(\"Database opened successfully\")\n",
    "\n",
    "except:\n",
    "    print(\"Database not connected\")"
   ]
  },
  {
   "cell_type": "markdown",
   "metadata": {},
   "source": [
    "## Create a Cursor Object\n",
    "\n",
    "https://www.datacamp.com/community/tutorials/tutorial-postgresql-python\n",
    "\n",
    "\n",
    "\n",
    "https://www.youtube.com/watch?v=2PDkXviEMD0\n",
    "\n",
    "* initial connection\n",
    "* select\n",
    "* insert"
   ]
  },
  {
   "cell_type": "code",
   "execution_count": 92,
   "metadata": {
    "ExecuteTime": {
     "end_time": "2020-02-15T19:32:13.692678Z",
     "start_time": "2020-02-15T19:32:13.688126Z"
    }
   },
   "outputs": [],
   "source": [
    "cursor = conn.cursor()"
   ]
  },
  {
   "cell_type": "markdown",
   "metadata": {},
   "source": [
    "Checking if a certain table exists in the database:"
   ]
  },
  {
   "cell_type": "code",
   "execution_count": 93,
   "metadata": {
    "ExecuteTime": {
     "end_time": "2020-02-15T19:32:21.502759Z",
     "start_time": "2020-02-15T19:32:21.488323Z"
    }
   },
   "outputs": [
    {
     "data": {
      "text/plain": [
       "False"
      ]
     },
     "execution_count": 93,
     "metadata": {},
     "output_type": "execute_result"
    }
   ],
   "source": [
    "cursor.execute(\"select exists(select * from information_schema.tables where table_name=%s)\", ('province',))\n",
    "cursor.fetchone()[0]\n"
   ]
  },
  {
   "cell_type": "markdown",
   "metadata": {},
   "source": [
    "Creating function that will be called to write all the tables in the database"
   ]
  },
  {
   "cell_type": "code",
   "execution_count": 94,
   "metadata": {
    "ExecuteTime": {
     "end_time": "2020-02-15T19:32:35.564531Z",
     "start_time": "2020-02-15T19:32:35.560565Z"
    }
   },
   "outputs": [],
   "source": [
    "def check_table_exist(tablename):\n",
    "    \n",
    "    cursor.execute(\"select exists(select * from information_schema.tables where table_name=%s)\", \n",
    "                   (tablename,))\n",
    "    \n",
    "    return(cursor.fetchone()[0]) # Return a boolean"
   ]
  },
  {
   "cell_type": "code",
   "execution_count": 80,
   "metadata": {
    "ExecuteTime": {
     "end_time": "2020-02-15T19:29:38.512382Z",
     "start_time": "2020-02-15T19:29:38.507321Z"
    }
   },
   "outputs": [],
   "source": [
    "def post_data(connection, table_to_post, tablename):\n",
    "    \n",
    "    # check if the table already exists in the database\n",
    "    \n",
    "    if check_table_exist(tablename):\n",
    "        cursor.execute(\"DROP TABLE \" + tablename + \" CASCADE\")\n",
    "    \n",
    "    cursor.execute(\"CREATE TABLE \" + tablename)"
   ]
  },
  {
   "cell_type": "markdown",
   "metadata": {},
   "source": [
    "## Create Table Individually"
   ]
  },
  {
   "cell_type": "code",
   "execution_count": 95,
   "metadata": {
    "ExecuteTime": {
     "end_time": "2020-02-15T19:32:39.537096Z",
     "start_time": "2020-02-15T19:32:39.429709Z"
    }
   },
   "outputs": [],
   "source": [
    "cursor.execute(\"\"\"\n",
    "CREATE TABLE winery (\n",
    "winery text\n",
    ")\n",
    "\"\"\")"
   ]
  },
  {
   "cell_type": "code",
   "execution_count": 97,
   "metadata": {
    "ExecuteTime": {
     "end_time": "2020-02-15T19:35:36.271146Z",
     "start_time": "2020-02-15T19:35:36.258321Z"
    }
   },
   "outputs": [],
   "source": [
    "conn.commit()"
   ]
  },
  {
   "cell_type": "code",
   "execution_count": 99,
   "metadata": {
    "ExecuteTime": {
     "end_time": "2020-02-15T19:37:43.290951Z",
     "start_time": "2020-02-15T19:37:43.277052Z"
    }
   },
   "outputs": [
    {
     "data": {
      "text/plain": [
       "True"
      ]
     },
     "execution_count": 99,
     "metadata": {},
     "output_type": "execute_result"
    }
   ],
   "source": [
    "check_table_exist('winery')"
   ]
  },
  {
   "cell_type": "markdown",
   "metadata": {},
   "source": [
    "## Close Cursor"
   ]
  },
  {
   "cell_type": "code",
   "execution_count": 85,
   "metadata": {
    "ExecuteTime": {
     "end_time": "2020-02-15T19:31:48.044933Z",
     "start_time": "2020-02-15T19:31:48.041556Z"
    }
   },
   "outputs": [],
   "source": [
    "cursor.close()"
   ]
  },
  {
   "cell_type": "markdown",
   "metadata": {},
   "source": [
    "## Closing Connection"
   ]
  },
  {
   "cell_type": "code",
   "execution_count": 86,
   "metadata": {
    "ExecuteTime": {
     "end_time": "2020-02-15T19:31:49.426062Z",
     "start_time": "2020-02-15T19:31:49.419451Z"
    }
   },
   "outputs": [],
   "source": [
    "conn.close()"
   ]
  },
  {
   "cell_type": "markdown",
   "metadata": {},
   "source": [
    "# SQL Alchemy"
   ]
  },
  {
   "cell_type": "markdown",
   "metadata": {},
   "source": [
    "## import package"
   ]
  },
  {
   "cell_type": "code",
   "execution_count": 102,
   "metadata": {
    "ExecuteTime": {
     "end_time": "2020-02-15T19:45:26.078027Z",
     "start_time": "2020-02-15T19:45:26.073965Z"
    }
   },
   "outputs": [],
   "source": [
    "from sqlalchemy import create_engine"
   ]
  },
  {
   "cell_type": "markdown",
   "metadata": {},
   "source": [
    "## Create Engine "
   ]
  },
  {
   "cell_type": "code",
   "execution_count": 142,
   "metadata": {
    "ExecuteTime": {
     "end_time": "2020-02-15T20:14:45.893350Z",
     "start_time": "2020-02-15T20:14:45.880342Z"
    }
   },
   "outputs": [],
   "source": [
    "engine = create_engine('postgresql://{}:{}@{}:{}/wine'.format(DB_USER,\n",
    "                                                              DB_PASS,\n",
    "                                                              DB_HOST,\n",
    "                                                              DB_PORT))"
   ]
  },
  {
   "cell_type": "markdown",
   "metadata": {},
   "source": [
    "## Import DF to SQL table"
   ]
  },
  {
   "cell_type": "markdown",
   "metadata": {},
   "source": [
    "### Define a function to check if a table already exists"
   ]
  },
  {
   "cell_type": "code",
   "execution_count": 158,
   "metadata": {
    "ExecuteTime": {
     "end_time": "2020-02-15T20:50:31.544158Z",
     "start_time": "2020-02-15T20:50:31.535030Z"
    }
   },
   "outputs": [],
   "source": [
    "def check_table_exist(tablename, engine):\n",
    "    check = engine.execute(\"\"\"\n",
    "    SELECT EXISTS \n",
    "    (SELECT * FROM information_schema.tables \n",
    "    WHERE table_name = %s\n",
    "    )\"\"\", \n",
    "                           (tablename,))\n",
    "    return(check.fetchone()[0])"
   ]
  },
  {
   "cell_type": "code",
   "execution_count": 188,
   "metadata": {
    "ExecuteTime": {
     "end_time": "2020-02-15T21:06:04.014602Z",
     "start_time": "2020-02-15T21:06:04.006102Z"
    }
   },
   "outputs": [
    {
     "data": {
      "text/plain": [
       "False"
      ]
     },
     "execution_count": 188,
     "metadata": {},
     "output_type": "execute_result"
    }
   ],
   "source": [
    "check_table_exist('designation', engine)"
   ]
  },
  {
   "cell_type": "markdown",
   "metadata": {},
   "source": [
    "### Define a function post_data\n",
    "\n",
    "this function will:\n",
    "\n",
    "   1) Call check_table_exist. If true, drop table\n",
    "   \n",
    "   2) Create a new table"
   ]
  },
  {
   "cell_type": "code",
   "execution_count": 180,
   "metadata": {
    "ExecuteTime": {
     "end_time": "2020-02-15T21:00:32.758283Z",
     "start_time": "2020-02-15T21:00:32.753109Z"
    }
   },
   "outputs": [],
   "source": [
    "def post_data(tablename, engine, dataframe):\n",
    "    if check_table_exist(tablename, engine):\n",
    "        \n",
    "        print('table already exists!')\n",
    "        \n",
    "        engine.execute(\"DROP TABLE {} CASCADE\".format(tablename))\n",
    "        \n",
    "        print('old table dropped!')\n",
    "    else:\n",
    "        print('table does not exists!')\n",
    "    \n",
    "    dataframe.to_sql(tablename, con = engine)\n",
    "    print('new table created!')"
   ]
  },
  {
   "cell_type": "code",
   "execution_count": 186,
   "metadata": {
    "ExecuteTime": {
     "end_time": "2020-02-15T21:04:20.057085Z",
     "start_time": "2020-02-15T21:04:19.966494Z"
    }
   },
   "outputs": [
    {
     "name": "stdout",
     "output_type": "stream",
     "text": [
      "new table created!\n"
     ]
    }
   ],
   "source": [
    "post_data('variety', engine, unique_variety_df)"
   ]
  },
  {
   "cell_type": "code",
   "execution_count": 187,
   "metadata": {
    "ExecuteTime": {
     "end_time": "2020-02-15T21:05:14.349398Z",
     "start_time": "2020-02-15T21:05:14.326423Z"
    }
   },
   "outputs": [
    {
     "data": {
      "text/plain": [
       "[(0, 'Cabernet Sauvignon'),\n",
       " (1, 'Tinta de Toro'),\n",
       " (2, 'Sauvignon Blanc'),\n",
       " (3, 'Pinot Noir'),\n",
       " (4, 'Provence red blend'),\n",
       " (5, 'Friulano'),\n",
       " (6, 'Tannat'),\n",
       " (7, 'Chardonnay'),\n",
       " (8, 'Tempranillo'),\n",
       " (9, 'Malbec'),\n",
       " (10, 'Rosé'),\n",
       " (11, 'Tempranillo Blend'),\n",
       " (12, 'Syrah'),\n",
       " (13, 'Mavrud'),\n",
       " (14, 'Sangiovese'),\n",
       " (15, 'Sparkling Blend'),\n",
       " (16, 'Rhône-style White Blend'),\n",
       " (17, 'Red Blend'),\n",
       " (18, 'Mencía'),\n",
       " (19, 'Palomino'),\n",
       " (20, 'Petite Sirah'),\n",
       " (21, 'Riesling'),\n",
       " (22, 'Cabernet Sauvignon-Syrah'),\n",
       " (23, 'Portuguese Red'),\n",
       " (24, 'Nebbiolo'),\n",
       " (25, 'Pinot Gris'),\n",
       " (26, 'Meritage'),\n",
       " (27, 'Baga'),\n",
       " (28, 'Glera'),\n",
       " (29, 'Malbec-Merlot'),\n",
       " (30, 'Merlot-Malbec'),\n",
       " (31, 'Ugni Blanc-Colombard'),\n",
       " (32, 'Viognier'),\n",
       " (33, 'Cabernet Sauvignon-Cabernet Franc'),\n",
       " (34, 'Moscato'),\n",
       " (35, 'Pinot Grigio'),\n",
       " (36, 'Cabernet Franc'),\n",
       " (37, 'White Blend'),\n",
       " (38, 'Monastrell'),\n",
       " (39, 'Gamay'),\n",
       " (40, 'Zinfandel'),\n",
       " (41, 'Greco'),\n",
       " (42, 'Barbera'),\n",
       " (43, 'Grenache'),\n",
       " (44, 'Rhône-style Red Blend'),\n",
       " (45, 'Albariño'),\n",
       " (46, 'Malvasia Bianca'),\n",
       " (47, 'Assyrtiko'),\n",
       " (48, 'Malagouzia'),\n",
       " (49, 'Carmenère'),\n",
       " (50, 'Bordeaux-style Red Blend'),\n",
       " (51, 'Touriga Nacional'),\n",
       " (52, 'Agiorgitiko'),\n",
       " (53, 'Picpoul'),\n",
       " (54, 'Godello'),\n",
       " (55, 'Gewürztraminer'),\n",
       " (56, 'Merlot'),\n",
       " (57, 'Syrah-Grenache'),\n",
       " (58, 'G-S-M'),\n",
       " (59, 'Mourvèdre'),\n",
       " (60, 'Bordeaux-style White Blend'),\n",
       " (61, 'Petit Verdot'),\n",
       " (62, 'Muscat'),\n",
       " (63, 'Chenin Blanc-Chardonnay'),\n",
       " (64, 'Cabernet Sauvignon-Merlot'),\n",
       " (65, 'Pinot Bianco'),\n",
       " (66, 'Alvarinho'),\n",
       " (67, 'Portuguese White'),\n",
       " (68, 'Garganega'),\n",
       " (69, 'Sauvignon'),\n",
       " (70, 'Gros and Petit Manseng'),\n",
       " (71, 'Tannat-Cabernet'),\n",
       " (72, 'Alicante Bouschet'),\n",
       " (73, 'Aragonês'),\n",
       " (74, 'Silvaner'),\n",
       " (75, 'Ugni Blanc'),\n",
       " (76, 'Grüner Veltliner'),\n",
       " (77, 'Frappato'),\n",
       " (78, 'Lemberger'),\n",
       " (79, 'Sylvaner'),\n",
       " (80, 'Chasselas'),\n",
       " (81, 'Alsace white blend'),\n",
       " (82, 'Früburgunder'),\n",
       " (83, 'Kekfrankos'),\n",
       " (84, 'Vermentino'),\n",
       " (85, 'Sherry'),\n",
       " (86, 'Aglianico'),\n",
       " (87, 'Torrontés'),\n",
       " (88, 'Primitivo'),\n",
       " (89, 'Semillon-Sauvignon Blanc'),\n",
       " (90, 'Portuguese Rosé'),\n",
       " (91, 'Grenache-Syrah'),\n",
       " (92, 'Prié Blanc'),\n",
       " (93, 'Negrette'),\n",
       " (94, 'Furmint'),\n",
       " (95, 'Carignane'),\n",
       " (96, 'Pinot Blanc'),\n",
       " (97, \"Nero d'Avola\"),\n",
       " (98, 'St. Laurent'),\n",
       " (99, 'Blauburgunder'),\n",
       " (100, 'Blaufränkisch'),\n",
       " (101, 'Scheurebe'),\n",
       " (102, 'Ribolla Gialla'),\n",
       " (103, 'Charbono'),\n",
       " (104, 'Malbec-Cabernet Sauvignon'),\n",
       " (105, 'Pinot Noir-Gamay'),\n",
       " (106, 'Pinot Nero'),\n",
       " (107, 'Gros Manseng'),\n",
       " (108, 'Nerello Mascalese'),\n",
       " (109, 'Shiraz'),\n",
       " (110, 'Negroamaro'),\n",
       " (111, 'Champagne Blend'),\n",
       " (112, 'Romorantin'),\n",
       " (113, 'Syrah-Cabernet Sauvignon'),\n",
       " (114, 'Tannat-Merlot'),\n",
       " (115, 'Duras'),\n",
       " (116, 'Garnacha'),\n",
       " (117, 'Tinta Francisca'),\n",
       " (118, 'Portuguese Sparkling'),\n",
       " (119, 'Chenin Blanc'),\n",
       " (120, 'Turbiana'),\n",
       " (121, 'Petite Verdot'),\n",
       " (122, 'Posip'),\n",
       " (123, 'Fumé Blanc'),\n",
       " (124, 'Roussanne'),\n",
       " (125, 'Grillo'),\n",
       " (126, 'Müller-Thurgau'),\n",
       " (127, 'Pinot Auxerrois'),\n",
       " (128, 'Port'),\n",
       " (129, 'Cabernet Blend'),\n",
       " (130, 'Cabernet Franc-Cabernet Sauvignon'),\n",
       " (131, 'Castelão'),\n",
       " (132, 'Encruzado'),\n",
       " (133, 'Touriga Nacional-Cabernet Sauvignon'),\n",
       " (134, 'Colombard-Sauvignon Blanc'),\n",
       " (135, 'Moscatel'),\n",
       " (136, 'Marsanne'),\n",
       " (137, 'Siria'),\n",
       " (138, 'Garnacha Blanca'),\n",
       " (139, 'Merlot-Cabernet Sauvignon'),\n",
       " (140, 'Arinto'),\n",
       " (141, 'Petit Manseng'),\n",
       " (142, 'Loureiro'),\n",
       " (143, 'Melon'),\n",
       " (144, 'Carricante'),\n",
       " (145, 'Fiano'),\n",
       " (146, 'Schwartzriesling'),\n",
       " (147, 'Sangiovese-Syrah'),\n",
       " (148, 'Tannat-Cabernet Franc'),\n",
       " (149, 'Cabernet Franc-Merlot'),\n",
       " (150, 'Sauvignon Blanc-Semillon'),\n",
       " (151, 'Macabeo'),\n",
       " (152, 'Alfrocheiro'),\n",
       " (153, 'Aligoté'),\n",
       " (154, 'Verdejo'),\n",
       " (155, 'Grenache Blanc'),\n",
       " (156, 'Fernão Pires'),\n",
       " (157, 'Spätburgunder'),\n",
       " (158, 'Ciliegiolo'),\n",
       " (159, 'Cabernet Sauvignon-Carmenère'),\n",
       " (160, 'Auxerrois'),\n",
       " (161, 'Sirica'),\n",
       " (162, 'Zweigelt'),\n",
       " (163, 'Pugnitello'),\n",
       " (164, 'Rosado'),\n",
       " (165, 'Rosato'),\n",
       " (166, 'Malvazija'),\n",
       " (167, 'Kalecik Karasi'),\n",
       " (168, 'Muskat Ottonel'),\n",
       " (169, 'Malbec-Bonarda'),\n",
       " (170, 'Tempranillo-Cabernet Sauvignon'),\n",
       " (171, 'Rivaner'),\n",
       " (172, 'Trepat'),\n",
       " (173, 'Baco Noir'),\n",
       " (174, 'Trebbiano'),\n",
       " (175, 'Chardonnay-Viognier'),\n",
       " (176, 'Syrah-Mourvèdre'),\n",
       " (177, 'Graciano'),\n",
       " (178, 'Roviello'),\n",
       " (179, 'Perricone'),\n",
       " (180, 'Falanghina'),\n",
       " (181, 'Vranec'),\n",
       " (182, 'Carignan'),\n",
       " (183, 'Cabernet-Shiraz'),\n",
       " (184, 'Verdelho'),\n",
       " (185, 'Pedro Ximénez'),\n",
       " (186, 'Marsanne-Roussanne'),\n",
       " (187, 'Malbec Blend'),\n",
       " (188, 'Weissburgunder'),\n",
       " (189, 'Morava'),\n",
       " (190, 'Ruen'),\n",
       " (191, 'Hondarrabi Zuri'),\n",
       " (192, 'Catarratto'),\n",
       " (193, 'Chardonnay-Sauvignon Blanc'),\n",
       " (194, 'Vidal'),\n",
       " (195, 'Rieslaner'),\n",
       " (196, 'Dornfelder'),\n",
       " (197, 'Tinto Fino'),\n",
       " (198, 'Gelber Muskateller'),\n",
       " (199, 'Roter Veltliner'),\n",
       " (200, 'Aragonez'),\n",
       " (201, 'Vitovska'),\n",
       " (202, 'Pinot Noir-Syrah'),\n",
       " (203, 'Gamay Noir'),\n",
       " (204, 'Grauburgunder'),\n",
       " (205, 'Cannonau'),\n",
       " (206, 'Mauzac'),\n",
       " (207, 'Austrian Red Blend'),\n",
       " (208, 'Sémillon'),\n",
       " (209, 'Lambrusco di Sorbara'),\n",
       " (210, 'Teran'),\n",
       " (211, 'Dolcetto'),\n",
       " (212, 'Cinsault'),\n",
       " (213, 'Assyrtico'),\n",
       " (214, 'Teroldego'),\n",
       " (215, 'Tamjanika'),\n",
       " (216, 'Boğazkere'),\n",
       " (217, 'Kadarka'),\n",
       " (218, 'Narince'),\n",
       " (219, 'Malbec-Petit Verdot'),\n",
       " (220, 'Veltliner'),\n",
       " (221, 'Traminer'),\n",
       " (222, 'Lambrusco'),\n",
       " (223, 'Arneis'),\n",
       " (224, 'Cabernet Sauvignon-Shiraz'),\n",
       " (225, 'Tocai Friulano'),\n",
       " (226, 'Fer Servadou'),\n",
       " (227, 'Muskateller'),\n",
       " (228, 'Nerello Cappuccio'),\n",
       " (229, 'Moscatel Roxo'),\n",
       " (230, 'Elbling'),\n",
       " (231, 'Saperavi'),\n",
       " (232, 'Antão Vaz'),\n",
       " (233, 'Pinot Meunier'),\n",
       " (234, 'Petite Syrah'),\n",
       " (235, 'Malvasia'),\n",
       " (236, 'Malbec-Tannat'),\n",
       " (237, 'Kallmet'),\n",
       " (238, 'Syrah-Merlot'),\n",
       " (239, 'Montepulciano'),\n",
       " (240, 'Kerner'),\n",
       " (241, 'Alvarinho-Chardonnay'),\n",
       " (242, 'Žilavka'),\n",
       " (243, 'Vinhão'),\n",
       " (244, 'Chardonnay-Semillon'),\n",
       " (245, 'Carmenère-Cabernet Sauvignon'),\n",
       " (246, 'Merlot-Cabernet Franc'),\n",
       " (247, 'Orangetraube'),\n",
       " (248, 'Cabernet Sauvignon-Sangiovese'),\n",
       " (249, 'Okuzgozu'),\n",
       " (250, 'Viura'),\n",
       " (251, 'Garnacha-Syrah'),\n",
       " (252, 'Zibibbo'),\n",
       " (253, 'Feteasca'),\n",
       " (254, 'Xarel-lo'),\n",
       " (255, 'Prokupac'),\n",
       " (256, 'Códega do Larinho'),\n",
       " (257, 'Touriga Nacional Blend'),\n",
       " (258, 'Inzolia'),\n",
       " (259, 'Cabernet-Syrah'),\n",
       " (260, 'Lambrusco Grasparossa'),\n",
       " (261, 'Malagousia'),\n",
       " (262, 'Cabernet Franc-Malbec'),\n",
       " (263, 'Feteasca Neagra'),\n",
       " (264, 'Yapincak'),\n",
       " (265, 'Tempranillo-Shiraz'),\n",
       " (266, 'Cabernet Sauvignon Grenache'),\n",
       " (267, 'Tinta Roriz'),\n",
       " (268, 'Merlot-Syrah'),\n",
       " (269, 'Tinta Fina'),\n",
       " (270, 'Colombard-Ugni Blanc'),\n",
       " (271, 'Colombard'),\n",
       " (272, 'Roditis'),\n",
       " (273, 'Grenache-Carignan'),\n",
       " (274, 'Emir'),\n",
       " (275, 'Orange Muscat'),\n",
       " (276, 'Karalahna'),\n",
       " (277, 'Trincadeira'),\n",
       " (278, 'Refosco'),\n",
       " (279, 'Pied de Perdrix'),\n",
       " (280, 'Vignoles'),\n",
       " (281, 'Carignan-Grenache'),\n",
       " (282, \"Muscat d'Alexandrie\"),\n",
       " (283, 'Bobal'),\n",
       " (284, 'Symphony'),\n",
       " (285, 'Norton'),\n",
       " (286, 'Sauvignon Blanc-Sauvignon Gris'),\n",
       " (287, 'Rkatsiteli'),\n",
       " (288, 'Roussanne-Viognier'),\n",
       " (289, 'Pinela'),\n",
       " (290, 'Blatina'),\n",
       " (291, 'Shiraz-Viognier'),\n",
       " (292, 'Bonarda'),\n",
       " (293, 'Sauvignon Blanc-Chardonnay'),\n",
       " (294, 'Chambourcin'),\n",
       " (295, 'Traminette'),\n",
       " (296, 'Grenache Blend'),\n",
       " (297, 'Jaen'),\n",
       " (298, 'Mondeuse'),\n",
       " (299, 'Feteascǎ Regalǎ'),\n",
       " (300, 'Teroldego Rotaliano'),\n",
       " (301, 'Sangiovese-Cabernet Sauvignon'),\n",
       " (302, 'Listán Negro'),\n",
       " (303, 'Syrah-Petite Sirah'),\n",
       " (304, 'Viognier-Chardonnay'),\n",
       " (305, 'Kuntra'),\n",
       " (306, 'Jacquère'),\n",
       " (307, 'Portuguiser'),\n",
       " (308, 'Grecanico'),\n",
       " (309, 'Verdejo-Viura'),\n",
       " (310, 'Tinto del Pais'),\n",
       " (311, 'Moscato Giallo'),\n",
       " (312, 'Cabernet Sauvignon-Malbec'),\n",
       " (313, 'Mission'),\n",
       " (314, 'Neuburger'),\n",
       " (315, 'Bastardo'),\n",
       " (316, 'Bical'),\n",
       " (317, 'Sacy'),\n",
       " (318, 'Carineña'),\n",
       " (319, 'Garnacha-Tempranillo'),\n",
       " (320, 'Pecorino'),\n",
       " (321, 'Garnacha Blend'),\n",
       " (322, 'Cococciola'),\n",
       " (323, 'Passerina'),\n",
       " (324, 'Gaglioppo'),\n",
       " (325, 'Garnacha Tintorera'),\n",
       " (326, 'Prieto Picudo'),\n",
       " (327, 'Tempranillo Blanco'),\n",
       " (328, \"Cesanese d'Affile\"),\n",
       " (329, 'Muscat Canelli'),\n",
       " (330, 'Cabernet'),\n",
       " (331, 'Malvasia Nera'),\n",
       " (332, 'Premsal'),\n",
       " (333, 'Mansois'),\n",
       " (334, 'Welschriesling'),\n",
       " (335, 'Shiraz-Tempranillo'),\n",
       " (336, 'Verdicchio'),\n",
       " (337, 'Sagrantino'),\n",
       " (338, 'Rolle'),\n",
       " (339, 'Trousseau Gris'),\n",
       " (340, 'Counoise'),\n",
       " (341, 'Mantonico'),\n",
       " (342, 'Cariñena-Garnacha'),\n",
       " (343, 'Insolia'),\n",
       " (344, 'Tokaji'),\n",
       " (345, 'Austrian white blend'),\n",
       " (346, 'Shiraz-Grenache'),\n",
       " (347, 'Claret'),\n",
       " (348, 'Syrah-Tempranillo'),\n",
       " (349, 'Uva di Troia'),\n",
       " (350, 'Aleatico'),\n",
       " (351, 'Piedirosso'),\n",
       " (352, 'Viognier-Marsanne'),\n",
       " (353, 'Pinot Grigio-Sauvignon Blanc'),\n",
       " (354, 'Pallagrello Nero'),\n",
       " (355, 'Chardonnay-Albariño'),\n",
       " (356, 'Savagnin'),\n",
       " (357, 'Pinotage'),\n",
       " (358, 'Braucol'),\n",
       " (359, 'Moschofilero'),\n",
       " (360, 'Nero di Troia'),\n",
       " (361, 'Carignano'),\n",
       " (362, 'Susumaniello'),\n",
       " (363, 'Baga-Touriga Nacional'),\n",
       " (364, 'Vidal Blanc'),\n",
       " (365, 'Vernaccia'),\n",
       " (366, 'Corvina, Rondinella, Molinara'),\n",
       " (367, 'Mavrotragano'),\n",
       " (368, 'Garnacha-Monastrell'),\n",
       " (369, 'Lagrein'),\n",
       " (370, 'Cabernet Merlot'),\n",
       " (371, 'Monastrell-Syrah'),\n",
       " (372, 'Malbec-Tempranillo'),\n",
       " (373, 'Syrah-Viognier'),\n",
       " (374, 'Verdeca'),\n",
       " (375, 'Sangiovese Grosso'),\n",
       " (376, 'Merlot-Argaman'),\n",
       " (377, 'Chenin Blanc-Viognier'),\n",
       " (378, 'Garnacha-Cabernet'),\n",
       " (379, 'Maturana'),\n",
       " (380, 'Malvar'),\n",
       " (381, 'Airen'),\n",
       " (382, 'Monica'),\n",
       " (383, 'Gewürztraminer-Riesling'),\n",
       " (384, 'Prugnolo Gentile'),\n",
       " (385, 'Steen'),\n",
       " (386, 'Chenin Blanc-Sauvignon Blanc'),\n",
       " (387, 'Shiraz-Cabernet Sauvignon'),\n",
       " (388, 'Picolit'),\n",
       " (389, 'Prosecco'),\n",
       " (390, 'White Riesling'),\n",
       " (391, 'White Port'),\n",
       " (392, 'Zierfandler'),\n",
       " (393, 'Petroulianos'),\n",
       " (394, 'Mavrodaphne'),\n",
       " (395, 'Savatiano'),\n",
       " (396, 'Tempranillo-Garnacha'),\n",
       " (397, 'Vidadillo'),\n",
       " (398, 'Syrah-Cabernet'),\n",
       " (399, 'Gelber Traminer'),\n",
       " (400, 'Grenache-Shiraz'),\n",
       " (401, 'Rotgipfler'),\n",
       " (402, 'Cabernet Sauvignon-Tempranillo'),\n",
       " (403, 'Edelzwicker'),\n",
       " (404, 'Cortese'),\n",
       " (405, 'Chardonnay Weissburgunder'),\n",
       " (406, 'Torbato'),\n",
       " (407, 'Verduzzo'),\n",
       " (408, 'Debit'),\n",
       " (409, 'Bovale'),\n",
       " (410, 'Tempranillo-Merlot'),\n",
       " (411, 'Xinisteri'),\n",
       " (412, 'Merlot-Cabernet'),\n",
       " (413, 'Verdejo-Sauvignon Blanc'),\n",
       " (414, 'Black Muscat'),\n",
       " (415, 'Koshu'),\n",
       " (416, 'Királyleányka'),\n",
       " (417, 'Favorita'),\n",
       " (418, 'Xinomavro'),\n",
       " (419, 'Cserszegi Fűszeres'),\n",
       " (420, 'Hárslevelü'),\n",
       " (421, 'Pallagrello'),\n",
       " (422, 'Mavroudi'),\n",
       " (423, 'Muscat Blanc'),\n",
       " (424, 'Schiava'),\n",
       " (425, 'Meoru'),\n",
       " (426, 'Nuragus'),\n",
       " (427, 'Trebbiano di Lugana'),\n",
       " (428, 'Coda di Volpe'),\n",
       " (429, 'Raboso'),\n",
       " (430, 'Shiraz-Pinotage'),\n",
       " (431, 'Enantio'),\n",
       " (432, 'Greco Bianco'),\n",
       " (433, 'Tai'),\n",
       " (434, 'Tokay'),\n",
       " (435, 'Muscadel'),\n",
       " (436, 'Cabernet Franc-Carmenère'),\n",
       " (437, 'Tintilia '),\n",
       " (438, 'Segalin'),\n",
       " (439, 'Lacrima'),\n",
       " (440, 'Cerceal'),\n",
       " (441, 'Cayuga'),\n",
       " (442, 'Sauvignon Gris'),\n",
       " (443, 'Albana'),\n",
       " (444, 'Corvina'),\n",
       " (445, 'Macabeo-Moscatel'),\n",
       " (446, 'Macabeo-Chardonnay'),\n",
       " (447, 'Moscadello'),\n",
       " (448, 'Nasco'),\n",
       " (449, 'Viognier-Roussanne'),\n",
       " (450, 'Plavac Mali'),\n",
       " (451, 'Cabernet Sauvignon-Merlot-Shiraz'),\n",
       " (452, 'Sauvignon Blanc-Chenin Blanc'),\n",
       " (453, 'Shiraz-Mourvèdre'),\n",
       " (454, 'Albarín'),\n",
       " (455, 'Black Monukka'),\n",
       " (456, 'Morio Muskat'),\n",
       " (457, 'Nielluciu'),\n",
       " (458, 'Alicante'),\n",
       " (459, 'Cabernet Sauvignon and Tinta Roriz'),\n",
       " (460, 'Viura-Chardonnay'),\n",
       " (461, \"Loin de l'Oeil\"),\n",
       " (462, 'Roter Traminer'),\n",
       " (463, 'Karasakiz'),\n",
       " (464, 'Casavecchia'),\n",
       " (465, 'Malvasia-Viura'),\n",
       " (466, 'Nosiola'),\n",
       " (467, 'Incrocio Manzoni'),\n",
       " (468, 'Viura-Verdejo'),\n",
       " (469, 'Erbaluce'),\n",
       " (470, 'Forcallà'),\n",
       " (471, 'Pansa Blanca'),\n",
       " (472, 'Catalanesca'),\n",
       " (473, 'Muscadelle'),\n",
       " (474, 'Malbec-Syrah'),\n",
       " (475, 'Petit Meslier'),\n",
       " (476, 'Johannisberg Riesling'),\n",
       " (477, 'Pignoletto'),\n",
       " (478, 'Cabernet Pfeffer'),\n",
       " (479, 'Syrah-Cabernet Franc'),\n",
       " (480, 'Valdiguié'),\n",
       " (481, 'Mazuelo'),\n",
       " (482, 'Brachetto'),\n",
       " (483, 'Jacquez'),\n",
       " (484, 'Moscofilero'),\n",
       " (485, 'Chardonnay-Sauvignon'),\n",
       " (486, 'Madeleine Angevine'),\n",
       " (487, 'Ruché'),\n",
       " (488, 'Merlot-Petite Verdot'),\n",
       " (489, 'Roussanne-Marsanne'),\n",
       " (490, 'Moscatel de Alejandría'),\n",
       " (491, 'Muscat Blanc à Petit Grain'),\n",
       " (492, 'Sämling'),\n",
       " (493, 'Mtsvane'),\n",
       " (494, 'Zlahtina'),\n",
       " (495, 'Zelen'),\n",
       " (496, 'Doña Blanca'),\n",
       " (497, 'Carmenère-Syrah'),\n",
       " (498, 'Roussanne-Grenache Blanc'),\n",
       " (499, 'Kinali Yapincak'),\n",
       " (500, 'Robola'),\n",
       " (501, 'Pinot Blanc-Chardonnay'),\n",
       " (502, 'Chardonnay-Pinot Blanc'),\n",
       " (503, 'Saperavi-Merlot'),\n",
       " (504, 'Malvasia Istriana'),\n",
       " (505, 'Torontel'),\n",
       " (506, 'Picapoll'),\n",
       " (507, 'Zierfandler-Rotgipfler'),\n",
       " (508, 'Malvasia Fina'),\n",
       " (509, 'Chinuri'),\n",
       " (510, 'Muscatel'),\n",
       " (511, 'Sousão'),\n",
       " (512, 'Silvaner-Traminer'),\n",
       " (513, 'Syrah-Carignan'),\n",
       " (514, 'Bukettraube'),\n",
       " (515, 'Muskat'),\n",
       " (516, 'Argaman'),\n",
       " (517, 'Provence white blend'),\n",
       " (518, 'Touriga Franca'),\n",
       " (519, 'Morillon'),\n",
       " (520, 'Carignan-Syrah'),\n",
       " (521, 'Aidani'),\n",
       " (522, 'Viognier-Grenache Blanc'),\n",
       " (523, 'Albarossa'),\n",
       " (524, 'Sauvignon Blanc-Verdejo'),\n",
       " (525, 'Grenache-Mourvèdre'),\n",
       " (526, 'Tannat-Syrah'),\n",
       " (527, 'Seyval Blanc'),\n",
       " (528, 'Tocai Rosso'),\n",
       " (529, 'Pinot-Chardonnay'),\n",
       " (530, 'Moscatel Graúdo'),\n",
       " (531, 'Pigato'),\n",
       " (532, 'Siegerrebe'),\n",
       " (533, 'Bombino Bianco'),\n",
       " (534, 'Trebbiano-Malvasia'),\n",
       " (535, 'Magliocco'),\n",
       " (536, 'Verduzzo Friulano '),\n",
       " (537, 'Vespaiolo'),\n",
       " (538, 'Marzemino'),\n",
       " (539, 'Tempranillo-Malbec'),\n",
       " (540, 'Crespiello'),\n",
       " (541, 'Cabernet Franc-Tempranillo'),\n",
       " (542, 'Gouveio'),\n",
       " (543, 'Caprettone'),\n",
       " (544, 'Garnacha-Graciano'),\n",
       " (545, 'Mataro'),\n",
       " (546, \"Pineau d'Aunis\"),\n",
       " (547, 'Bual'),\n",
       " (548, 'Sercial'),\n",
       " (549, 'Moscato di Noto'),\n",
       " (550, 'Sauvignonasse'),\n",
       " (551, 'Madeira Blend'),\n",
       " (552, 'St. George'),\n",
       " (553, 'Rebula'),\n",
       " (554, 'Pallagrello Bianco'),\n",
       " (555, 'Vilana'),\n",
       " (556, 'Pelaverga Piccolo'),\n",
       " (557, 'Syrah-Grenache-Viognier'),\n",
       " (558, 'Alvarelhão'),\n",
       " (559, 'Durif'),\n",
       " (560, 'Angevine'),\n",
       " (561, 'Semillon-Chardonnay'),\n",
       " (562, 'Pinot Blanc-Pinot Noir'),\n",
       " (563, 'Manzoni'),\n",
       " (564, 'Maréchal Foch'),\n",
       " (565, 'Blauer Portugieser'),\n",
       " (566, 'Tocai'),\n",
       " (567, 'Shiraz-Malbec'),\n",
       " (568, 'Cabernet Moravia'),\n",
       " (569, 'Espadeiro'),\n",
       " (570, 'País'),\n",
       " (571, 'Altesse'),\n",
       " (572, 'Avesso'),\n",
       " (573, 'Grignolino'),\n",
       " (574, 'Mandilaria'),\n",
       " (575, 'Freisa'),\n",
       " (576, 'Merlot-Shiraz'),\n",
       " (577, 'Dafni'),\n",
       " (578, 'Xynisteri'),\n",
       " (579, 'Grechetto'),\n",
       " (580, 'Roscetto'),\n",
       " (581, 'Sideritis'),\n",
       " (582, 'Pinotage-Merlot'),\n",
       " (583, 'Asprinio'),\n",
       " (584, 'Grolleau'),\n",
       " (585, 'Gragnano'),\n",
       " (586, 'Ansonica'),\n",
       " (587, 'Sangiovese Cabernet'),\n",
       " (588, 'Tinta Barroca'),\n",
       " (589, 'Syrah-Bonarda'),\n",
       " (590, 'Marsanne-Viognier'),\n",
       " (591, 'Azal'),\n",
       " (592, 'Durello'),\n",
       " (593, 'Syrah-Malbec'),\n",
       " (594, 'Malbec-Cabernet Franc'),\n",
       " (595, 'Franconia'),\n",
       " (596, 'Rufete'),\n",
       " (597, 'Parraleta'),\n",
       " (598, 'St. Vincent'),\n",
       " (599, 'Groppello'),\n",
       " (600, 'Athiri'),\n",
       " (601, 'Muscat of Alexandria'),\n",
       " (602, 'Malvoisie'),\n",
       " (603, 'Colorino'),\n",
       " (604, 'Merlot-Grenache'),\n",
       " (605, 'Terret Blanc'),\n",
       " (606, 'Chardonel'),\n",
       " (607, 'Macabeo-Gewürztraminer'),\n",
       " (608, 'Grenache Gris'),\n",
       " (609, 'Rabigato'),\n",
       " (610, 'Muscat Hamburg'),\n",
       " (611, 'Sarba'),\n",
       " (612, 'Irsai Oliver'),\n",
       " (613, 'Chardonnay-Pinot Gris'),\n",
       " (614, 'Vermentino Nero'),\n",
       " (615, 'Pardina'),\n",
       " (616, 'Apple'),\n",
       " (617, 'Clairette'),\n",
       " (618, 'Sauvignon Musqué'),\n",
       " (619, 'Shiraz-Merlot'),\n",
       " (620, 'Viognier-Valdiguié'),\n",
       " (621, 'Chardonelle'),\n",
       " (622, 'Malmsey'),\n",
       " (623, 'Tinta Negra Mole'),\n",
       " (624, 'Pinot Grigio-Chardonnay'),\n",
       " (625, 'Muscadet'),\n",
       " (626, 'Viura-Sauvignon Blanc'),\n",
       " (627, 'Huxelrebe'),\n",
       " (628, 'Tokay Pinot Gris'),\n",
       " (629, 'Chardonnay-Pinot Grigio'),\n",
       " (630, 'Moristel'),\n",
       " (631, 'Carnelian')]"
      ]
     },
     "execution_count": 187,
     "metadata": {},
     "output_type": "execute_result"
    }
   ],
   "source": [
    "engine.execute(\"SELECT * FROM variety\").fetchall()"
   ]
  }
 ],
 "metadata": {
  "kernelspec": {
   "display_name": "Python 3",
   "language": "python",
   "name": "python3"
  },
  "language_info": {
   "codemirror_mode": {
    "name": "ipython",
    "version": 3
   },
   "file_extension": ".py",
   "mimetype": "text/x-python",
   "name": "python",
   "nbconvert_exporter": "python",
   "pygments_lexer": "ipython3",
   "version": "3.7.4"
  },
  "toc": {
   "base_numbering": 1,
   "nav_menu": {},
   "number_sections": true,
   "sideBar": true,
   "skip_h1_title": false,
   "title_cell": "Table of Contents",
   "title_sidebar": "Contents",
   "toc_cell": false,
   "toc_position": {},
   "toc_section_display": true,
   "toc_window_display": true
  },
  "varInspector": {
   "cols": {
    "lenName": 16,
    "lenType": 16,
    "lenVar": 40
   },
   "kernels_config": {
    "python": {
     "delete_cmd_postfix": "",
     "delete_cmd_prefix": "del ",
     "library": "var_list.py",
     "varRefreshCmd": "print(var_dic_list())"
    },
    "r": {
     "delete_cmd_postfix": ") ",
     "delete_cmd_prefix": "rm(",
     "library": "var_list.r",
     "varRefreshCmd": "cat(var_dic_list()) "
    }
   },
   "types_to_exclude": [
    "module",
    "function",
    "builtin_function_or_method",
    "instance",
    "_Feature"
   ],
   "window_display": false
  }
 },
 "nbformat": 4,
 "nbformat_minor": 2
}
