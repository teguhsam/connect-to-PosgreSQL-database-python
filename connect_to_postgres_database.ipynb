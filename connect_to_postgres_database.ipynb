{
 "cells": [
  {
   "cell_type": "markdown",
   "metadata": {},
   "source": [
    "# Create a database called 'Wine'"
   ]
  },
  {
   "cell_type": "markdown",
   "metadata": {},
   "source": [
    "# Import modules"
   ]
  },
  {
   "cell_type": "code",
   "execution_count": 46,
   "metadata": {
    "ExecuteTime": {
     "end_time": "2020-02-15T19:00:36.592886Z",
     "start_time": "2020-02-15T19:00:36.589568Z"
    }
   },
   "outputs": [],
   "source": [
    "import pandas as pd "
   ]
  },
  {
   "cell_type": "markdown",
   "metadata": {},
   "source": [
    "# Import a table for csv"
   ]
  },
  {
   "cell_type": "code",
   "execution_count": 47,
   "metadata": {
    "ExecuteTime": {
     "end_time": "2020-02-15T19:00:37.300364Z",
     "start_time": "2020-02-15T19:00:36.597555Z"
    }
   },
   "outputs": [
    {
     "name": "stdout",
     "output_type": "stream",
     "text": [
      "This dataset has: 150930 columns 10 rows\n"
     ]
    }
   ],
   "source": [
    "raw = pd.read_csv(\"dataset/winemag-data_first150k.csv\").drop(\"Unnamed: 0\", axis=1)\n",
    "print(\"This dataset has: {} columns {} rows\".format(raw.shape[0], raw.shape[1]))"
   ]
  },
  {
   "cell_type": "code",
   "execution_count": 48,
   "metadata": {
    "ExecuteTime": {
     "end_time": "2020-02-15T19:00:37.316134Z",
     "start_time": "2020-02-15T19:00:37.303685Z"
    }
   },
   "outputs": [
    {
     "data": {
      "text/html": [
       "<div>\n",
       "<style scoped>\n",
       "    .dataframe tbody tr th:only-of-type {\n",
       "        vertical-align: middle;\n",
       "    }\n",
       "\n",
       "    .dataframe tbody tr th {\n",
       "        vertical-align: top;\n",
       "    }\n",
       "\n",
       "    .dataframe thead th {\n",
       "        text-align: right;\n",
       "    }\n",
       "</style>\n",
       "<table border=\"1\" class=\"dataframe\">\n",
       "  <thead>\n",
       "    <tr style=\"text-align: right;\">\n",
       "      <th></th>\n",
       "      <th>country</th>\n",
       "      <th>description</th>\n",
       "      <th>designation</th>\n",
       "      <th>points</th>\n",
       "      <th>price</th>\n",
       "      <th>province</th>\n",
       "      <th>region_1</th>\n",
       "      <th>region_2</th>\n",
       "      <th>variety</th>\n",
       "      <th>winery</th>\n",
       "    </tr>\n",
       "  </thead>\n",
       "  <tbody>\n",
       "    <tr>\n",
       "      <td>0</td>\n",
       "      <td>US</td>\n",
       "      <td>This tremendous 100% varietal wine hails from ...</td>\n",
       "      <td>Martha's Vineyard</td>\n",
       "      <td>96</td>\n",
       "      <td>235.0</td>\n",
       "      <td>California</td>\n",
       "      <td>Napa Valley</td>\n",
       "      <td>Napa</td>\n",
       "      <td>Cabernet Sauvignon</td>\n",
       "      <td>Heitz</td>\n",
       "    </tr>\n",
       "    <tr>\n",
       "      <td>1</td>\n",
       "      <td>Spain</td>\n",
       "      <td>Ripe aromas of fig, blackberry and cassis are ...</td>\n",
       "      <td>Carodorum Selección Especial Reserva</td>\n",
       "      <td>96</td>\n",
       "      <td>110.0</td>\n",
       "      <td>Northern Spain</td>\n",
       "      <td>Toro</td>\n",
       "      <td>NaN</td>\n",
       "      <td>Tinta de Toro</td>\n",
       "      <td>Bodega Carmen Rodríguez</td>\n",
       "    </tr>\n",
       "    <tr>\n",
       "      <td>2</td>\n",
       "      <td>US</td>\n",
       "      <td>Mac Watson honors the memory of a wine once ma...</td>\n",
       "      <td>Special Selected Late Harvest</td>\n",
       "      <td>96</td>\n",
       "      <td>90.0</td>\n",
       "      <td>California</td>\n",
       "      <td>Knights Valley</td>\n",
       "      <td>Sonoma</td>\n",
       "      <td>Sauvignon Blanc</td>\n",
       "      <td>Macauley</td>\n",
       "    </tr>\n",
       "    <tr>\n",
       "      <td>3</td>\n",
       "      <td>US</td>\n",
       "      <td>This spent 20 months in 30% new French oak, an...</td>\n",
       "      <td>Reserve</td>\n",
       "      <td>96</td>\n",
       "      <td>65.0</td>\n",
       "      <td>Oregon</td>\n",
       "      <td>Willamette Valley</td>\n",
       "      <td>Willamette Valley</td>\n",
       "      <td>Pinot Noir</td>\n",
       "      <td>Ponzi</td>\n",
       "    </tr>\n",
       "    <tr>\n",
       "      <td>4</td>\n",
       "      <td>France</td>\n",
       "      <td>This is the top wine from La Bégude, named aft...</td>\n",
       "      <td>La Brûlade</td>\n",
       "      <td>95</td>\n",
       "      <td>66.0</td>\n",
       "      <td>Provence</td>\n",
       "      <td>Bandol</td>\n",
       "      <td>NaN</td>\n",
       "      <td>Provence red blend</td>\n",
       "      <td>Domaine de la Bégude</td>\n",
       "    </tr>\n",
       "  </tbody>\n",
       "</table>\n",
       "</div>"
      ],
      "text/plain": [
       "  country                                        description  \\\n",
       "0      US  This tremendous 100% varietal wine hails from ...   \n",
       "1   Spain  Ripe aromas of fig, blackberry and cassis are ...   \n",
       "2      US  Mac Watson honors the memory of a wine once ma...   \n",
       "3      US  This spent 20 months in 30% new French oak, an...   \n",
       "4  France  This is the top wine from La Bégude, named aft...   \n",
       "\n",
       "                            designation  points  price        province  \\\n",
       "0                     Martha's Vineyard      96  235.0      California   \n",
       "1  Carodorum Selección Especial Reserva      96  110.0  Northern Spain   \n",
       "2         Special Selected Late Harvest      96   90.0      California   \n",
       "3                               Reserve      96   65.0          Oregon   \n",
       "4                            La Brûlade      95   66.0        Provence   \n",
       "\n",
       "            region_1           region_2             variety  \\\n",
       "0        Napa Valley               Napa  Cabernet Sauvignon   \n",
       "1               Toro                NaN       Tinta de Toro   \n",
       "2     Knights Valley             Sonoma     Sauvignon Blanc   \n",
       "3  Willamette Valley  Willamette Valley          Pinot Noir   \n",
       "4             Bandol                NaN  Provence red blend   \n",
       "\n",
       "                    winery  \n",
       "0                    Heitz  \n",
       "1  Bodega Carmen Rodríguez  \n",
       "2                 Macauley  \n",
       "3                    Ponzi  \n",
       "4     Domaine de la Bégude  "
      ]
     },
     "execution_count": 48,
     "metadata": {},
     "output_type": "execute_result"
    }
   ],
   "source": [
    "raw.head()"
   ]
  },
  {
   "cell_type": "markdown",
   "metadata": {},
   "source": [
    "# Check for missing values"
   ]
  },
  {
   "cell_type": "code",
   "execution_count": 49,
   "metadata": {
    "ExecuteTime": {
     "end_time": "2020-02-15T19:00:37.408249Z",
     "start_time": "2020-02-15T19:00:37.322548Z"
    }
   },
   "outputs": [
    {
     "name": "stdout",
     "output_type": "stream",
     "text": [
      "<class 'pandas.core.frame.DataFrame'>\n",
      "RangeIndex: 150930 entries, 0 to 150929\n",
      "Data columns (total 10 columns):\n",
      "country        150925 non-null object\n",
      "description    150930 non-null object\n",
      "designation    105195 non-null object\n",
      "points         150930 non-null int64\n",
      "price          137235 non-null float64\n",
      "province       150925 non-null object\n",
      "region_1       125870 non-null object\n",
      "region_2       60953 non-null object\n",
      "variety        150930 non-null object\n",
      "winery         150930 non-null object\n",
      "dtypes: float64(1), int64(1), object(8)\n",
      "memory usage: 11.5+ MB\n"
     ]
    }
   ],
   "source": [
    "raw.info()"
   ]
  },
  {
   "cell_type": "markdown",
   "metadata": {},
   "source": [
    "# Check for any duplicate rows in description"
   ]
  },
  {
   "cell_type": "code",
   "execution_count": 50,
   "metadata": {
    "ExecuteTime": {
     "end_time": "2020-02-15T19:00:37.524466Z",
     "start_time": "2020-02-15T19:00:37.411891Z"
    }
   },
   "outputs": [],
   "source": [
    "descrip_unique_row = len(raw['description'].unique())"
   ]
  },
  {
   "cell_type": "code",
   "execution_count": 51,
   "metadata": {
    "ExecuteTime": {
     "end_time": "2020-02-15T19:00:37.648070Z",
     "start_time": "2020-02-15T19:00:37.527036Z"
    }
   },
   "outputs": [
    {
     "data": {
      "text/html": [
       "<div>\n",
       "<style scoped>\n",
       "    .dataframe tbody tr th:only-of-type {\n",
       "        vertical-align: middle;\n",
       "    }\n",
       "\n",
       "    .dataframe tbody tr th {\n",
       "        vertical-align: top;\n",
       "    }\n",
       "\n",
       "    .dataframe thead th {\n",
       "        text-align: right;\n",
       "    }\n",
       "</style>\n",
       "<table border=\"1\" class=\"dataframe\">\n",
       "  <thead>\n",
       "    <tr style=\"text-align: right;\">\n",
       "      <th></th>\n",
       "      <th>country</th>\n",
       "      <th>description</th>\n",
       "      <th>designation</th>\n",
       "      <th>points</th>\n",
       "      <th>price</th>\n",
       "      <th>province</th>\n",
       "      <th>region_1</th>\n",
       "      <th>region_2</th>\n",
       "      <th>variety</th>\n",
       "      <th>winery</th>\n",
       "    </tr>\n",
       "  </thead>\n",
       "  <tbody>\n",
       "    <tr>\n",
       "      <td>300</td>\n",
       "      <td>US</td>\n",
       "      <td>This standout Rocks District wine brings earth...</td>\n",
       "      <td>The Funk Estate</td>\n",
       "      <td>94</td>\n",
       "      <td>60.0</td>\n",
       "      <td>Washington</td>\n",
       "      <td>Walla Walla Valley (WA)</td>\n",
       "      <td>Columbia Valley</td>\n",
       "      <td>Syrah</td>\n",
       "      <td>Saviah</td>\n",
       "    </tr>\n",
       "    <tr>\n",
       "      <td>305</td>\n",
       "      <td>New Zealand</td>\n",
       "      <td>Yields were down in 2015, but intensity is up,...</td>\n",
       "      <td>Maté's Vineyard</td>\n",
       "      <td>94</td>\n",
       "      <td>57.0</td>\n",
       "      <td>Kumeu</td>\n",
       "      <td>NaN</td>\n",
       "      <td>NaN</td>\n",
       "      <td>Chardonnay</td>\n",
       "      <td>Kumeu River</td>\n",
       "    </tr>\n",
       "    <tr>\n",
       "      <td>420</td>\n",
       "      <td>US</td>\n",
       "      <td>Though just four years old, this wine seems ad...</td>\n",
       "      <td>NaN</td>\n",
       "      <td>87</td>\n",
       "      <td>36.0</td>\n",
       "      <td>Washington</td>\n",
       "      <td>Columbia Valley (WA)</td>\n",
       "      <td>Columbia Valley</td>\n",
       "      <td>Cabernet Sauvignon</td>\n",
       "      <td>Dussek Family Cellars</td>\n",
       "    </tr>\n",
       "    <tr>\n",
       "      <td>422</td>\n",
       "      <td>US</td>\n",
       "      <td>Tawny in color and wafting of potpourri and fa...</td>\n",
       "      <td>NaN</td>\n",
       "      <td>87</td>\n",
       "      <td>20.0</td>\n",
       "      <td>New York</td>\n",
       "      <td>Finger Lakes</td>\n",
       "      <td>Finger Lakes</td>\n",
       "      <td>Cabernet Franc</td>\n",
       "      <td>Serenity</td>\n",
       "    </tr>\n",
       "    <tr>\n",
       "      <td>423</td>\n",
       "      <td>US</td>\n",
       "      <td>The aromas on this wine are quite light, conve...</td>\n",
       "      <td>Weinbau</td>\n",
       "      <td>87</td>\n",
       "      <td>32.0</td>\n",
       "      <td>Washington</td>\n",
       "      <td>Wahluke Slope</td>\n",
       "      <td>Columbia Valley</td>\n",
       "      <td>Grenache</td>\n",
       "      <td>Sol Stone</td>\n",
       "    </tr>\n",
       "  </tbody>\n",
       "</table>\n",
       "</div>"
      ],
      "text/plain": [
       "         country                                        description  \\\n",
       "300           US  This standout Rocks District wine brings earth...   \n",
       "305  New Zealand  Yields were down in 2015, but intensity is up,...   \n",
       "420           US  Though just four years old, this wine seems ad...   \n",
       "422           US  Tawny in color and wafting of potpourri and fa...   \n",
       "423           US  The aromas on this wine are quite light, conve...   \n",
       "\n",
       "         designation  points  price    province                 region_1  \\\n",
       "300  The Funk Estate      94   60.0  Washington  Walla Walla Valley (WA)   \n",
       "305  Maté's Vineyard      94   57.0       Kumeu                      NaN   \n",
       "420              NaN      87   36.0  Washington     Columbia Valley (WA)   \n",
       "422              NaN      87   20.0    New York             Finger Lakes   \n",
       "423          Weinbau      87   32.0  Washington            Wahluke Slope   \n",
       "\n",
       "            region_2             variety                 winery  \n",
       "300  Columbia Valley               Syrah                 Saviah  \n",
       "305              NaN          Chardonnay            Kumeu River  \n",
       "420  Columbia Valley  Cabernet Sauvignon  Dussek Family Cellars  \n",
       "422     Finger Lakes      Cabernet Franc               Serenity  \n",
       "423  Columbia Valley            Grenache              Sol Stone  "
      ]
     },
     "execution_count": 51,
     "metadata": {},
     "output_type": "execute_result"
    }
   ],
   "source": [
    "wine_duplicates = raw[raw.duplicated('description')]\n",
    "wine_duplicates.head()"
   ]
  },
  {
   "cell_type": "code",
   "execution_count": 52,
   "metadata": {
    "ExecuteTime": {
     "end_time": "2020-02-15T19:00:37.659028Z",
     "start_time": "2020-02-15T19:00:37.652625Z"
    }
   },
   "outputs": [],
   "source": [
    "duplicate_example = wine_duplicates['description'].iloc[0]"
   ]
  },
  {
   "cell_type": "code",
   "execution_count": 53,
   "metadata": {
    "ExecuteTime": {
     "end_time": "2020-02-15T19:00:37.689433Z",
     "start_time": "2020-02-15T19:00:37.662524Z"
    }
   },
   "outputs": [
    {
     "data": {
      "text/html": [
       "<div>\n",
       "<style scoped>\n",
       "    .dataframe tbody tr th:only-of-type {\n",
       "        vertical-align: middle;\n",
       "    }\n",
       "\n",
       "    .dataframe tbody tr th {\n",
       "        vertical-align: top;\n",
       "    }\n",
       "\n",
       "    .dataframe thead th {\n",
       "        text-align: right;\n",
       "    }\n",
       "</style>\n",
       "<table border=\"1\" class=\"dataframe\">\n",
       "  <thead>\n",
       "    <tr style=\"text-align: right;\">\n",
       "      <th></th>\n",
       "      <th>country</th>\n",
       "      <th>description</th>\n",
       "      <th>designation</th>\n",
       "      <th>points</th>\n",
       "      <th>price</th>\n",
       "      <th>province</th>\n",
       "      <th>region_1</th>\n",
       "      <th>region_2</th>\n",
       "      <th>variety</th>\n",
       "      <th>winery</th>\n",
       "    </tr>\n",
       "  </thead>\n",
       "  <tbody>\n",
       "    <tr>\n",
       "      <td>29</td>\n",
       "      <td>US</td>\n",
       "      <td>This standout Rocks District wine brings earth...</td>\n",
       "      <td>The Funk Estate</td>\n",
       "      <td>94</td>\n",
       "      <td>60.0</td>\n",
       "      <td>Washington</td>\n",
       "      <td>Walla Walla Valley (WA)</td>\n",
       "      <td>Columbia Valley</td>\n",
       "      <td>Syrah</td>\n",
       "      <td>Saviah</td>\n",
       "    </tr>\n",
       "    <tr>\n",
       "      <td>300</td>\n",
       "      <td>US</td>\n",
       "      <td>This standout Rocks District wine brings earth...</td>\n",
       "      <td>The Funk Estate</td>\n",
       "      <td>94</td>\n",
       "      <td>60.0</td>\n",
       "      <td>Washington</td>\n",
       "      <td>Walla Walla Valley (WA)</td>\n",
       "      <td>Columbia Valley</td>\n",
       "      <td>Syrah</td>\n",
       "      <td>Saviah</td>\n",
       "    </tr>\n",
       "  </tbody>\n",
       "</table>\n",
       "</div>"
      ],
      "text/plain": [
       "    country                                        description  \\\n",
       "29       US  This standout Rocks District wine brings earth...   \n",
       "300      US  This standout Rocks District wine brings earth...   \n",
       "\n",
       "         designation  points  price    province                 region_1  \\\n",
       "29   The Funk Estate      94   60.0  Washington  Walla Walla Valley (WA)   \n",
       "300  The Funk Estate      94   60.0  Washington  Walla Walla Valley (WA)   \n",
       "\n",
       "            region_2 variety  winery  \n",
       "29   Columbia Valley   Syrah  Saviah  \n",
       "300  Columbia Valley   Syrah  Saviah  "
      ]
     },
     "execution_count": 53,
     "metadata": {},
     "output_type": "execute_result"
    }
   ],
   "source": [
    "raw[raw['description']== duplicate_example]"
   ]
  },
  {
   "cell_type": "markdown",
   "metadata": {},
   "source": [
    "As we can see above, some of the columns are duplicates. Before uploading the data to the database, we want to remove all duplicates. "
   ]
  },
  {
   "cell_type": "code",
   "execution_count": 54,
   "metadata": {
    "ExecuteTime": {
     "end_time": "2020-02-15T19:00:37.827569Z",
     "start_time": "2020-02-15T19:00:37.691440Z"
    }
   },
   "outputs": [
    {
     "name": "stdout",
     "output_type": "stream",
     "text": [
      "This dataset has: 97821 columns 10 rows\n"
     ]
    }
   ],
   "source": [
    "wine = raw.drop_duplicates(subset='description')\n",
    "print(\"This dataset has: {} columns {} rows\".format(wine.shape[0], wine.shape[1]))"
   ]
  },
  {
   "cell_type": "code",
   "execution_count": 68,
   "metadata": {
    "ExecuteTime": {
     "end_time": "2020-02-15T19:06:18.633970Z",
     "start_time": "2020-02-15T19:06:18.630111Z"
    }
   },
   "outputs": [],
   "source": [
    "def unique_item_to_df(origin_df, col_name):\n",
    "    df_to_list = origin_df[col_name].unique().tolist()\n",
    "    return(pd.DataFrame({'col_name': df_to_list}))"
   ]
  },
  {
   "cell_type": "code",
   "execution_count": 140,
   "metadata": {
    "ExecuteTime": {
     "end_time": "2020-02-15T20:13:33.759665Z",
     "start_time": "2020-02-15T20:13:33.695742Z"
    }
   },
   "outputs": [],
   "source": [
    "unique_country_df = unique_item_to_df(wine, 'country')\n",
    "unique_designation_df = unique_item_to_df(wine, 'designation')\n",
    "unique_province_df = unique_item_to_df(wine, 'province')\n",
    "unique_region1_df = unique_item_to_df(wine, 'region_1')\n",
    "unique_region2_df = unique_item_to_df(wine, 'region_2')\n",
    "unique_variety_df = unique_item_to_df(wine, 'variety')\n",
    "unique_winery_df = unique_item_to_df(wine, 'winery')"
   ]
  },
  {
   "cell_type": "markdown",
   "metadata": {
    "ExecuteTime": {
     "end_time": "2020-02-15T19:44:34.706494Z",
     "start_time": "2020-02-15T19:44:34.702682Z"
    }
   },
   "source": [
    "# Interact with Database Using psychopg2"
   ]
  },
  {
   "cell_type": "markdown",
   "metadata": {},
   "source": [
    "## Import package for connecting to database"
   ]
  },
  {
   "cell_type": "markdown",
   "metadata": {
    "ExecuteTime": {
     "end_time": "2020-02-14T08:37:37.462778Z",
     "start_time": "2020-02-14T08:37:37.440866Z"
    }
   },
   "source": [
    "Pip Install\n",
    "https://www.a2hosting.ca/kb/developer-corner/postgresql/connecting-to-postgresql-using-python"
   ]
  },
  {
   "cell_type": "markdown",
   "metadata": {
    "ExecuteTime": {
     "end_time": "2020-02-14T08:44:51.275684Z",
     "start_time": "2020-02-14T08:44:51.098475Z"
    }
   },
   "source": [
    "https://stackoverflow.com/questions/33866695/install-psycopg2-on-mac-osx-10-9-5\n",
    "\n",
    "In terminal:\n",
    "* pip install psycopg2-binary"
   ]
  },
  {
   "cell_type": "markdown",
   "metadata": {},
   "source": [
    "## Import Package After Installing"
   ]
  },
  {
   "cell_type": "code",
   "execution_count": 22,
   "metadata": {
    "ExecuteTime": {
     "end_time": "2020-02-15T07:21:34.993164Z",
     "start_time": "2020-02-15T07:21:34.989013Z"
    }
   },
   "outputs": [],
   "source": [
    "import psycopg2"
   ]
  },
  {
   "cell_type": "markdown",
   "metadata": {},
   "source": [
    "## Create Connection"
   ]
  },
  {
   "cell_type": "code",
   "execution_count": 105,
   "metadata": {
    "ExecuteTime": {
     "end_time": "2020-02-15T19:50:44.239721Z",
     "start_time": "2020-02-15T19:50:44.226989Z"
    }
   },
   "outputs": [],
   "source": [
    "DB_NAME = \"wine\"\n",
    "DB_USER = \"postgres\"\n",
    "DB_HOST = \"localhost\"\n",
    "DB_PASS = open(\"password.txt\", \"r\").read()\n",
    "DB_PORT = \"5432\""
   ]
  },
  {
   "cell_type": "code",
   "execution_count": 91,
   "metadata": {
    "ExecuteTime": {
     "end_time": "2020-02-15T19:32:10.558365Z",
     "start_time": "2020-02-15T19:32:10.539939Z"
    }
   },
   "outputs": [
    {
     "name": "stdout",
     "output_type": "stream",
     "text": [
      "Database opened successfully\n"
     ]
    }
   ],
   "source": [
    "try:\n",
    "    conn = psycopg2.connect(database = DB_NAME, \n",
    "                            user = DB_USER, \n",
    "                            password = DB_PASS, \n",
    "                            host = DB_HOST, \n",
    "                            port = DB_PORT)\n",
    "    print(\"Database opened successfully\")\n",
    "\n",
    "except:\n",
    "    print(\"Database not connected\")"
   ]
  },
  {
   "cell_type": "markdown",
   "metadata": {},
   "source": [
    "## Create a Cursor Object\n",
    "\n",
    "https://www.datacamp.com/community/tutorials/tutorial-postgresql-python\n",
    "\n",
    "\n",
    "\n",
    "https://www.youtube.com/watch?v=2PDkXviEMD0\n",
    "\n",
    "* initial connection\n",
    "* select\n",
    "* insert"
   ]
  },
  {
   "cell_type": "code",
   "execution_count": 92,
   "metadata": {
    "ExecuteTime": {
     "end_time": "2020-02-15T19:32:13.692678Z",
     "start_time": "2020-02-15T19:32:13.688126Z"
    }
   },
   "outputs": [],
   "source": [
    "cursor = conn.cursor()"
   ]
  },
  {
   "cell_type": "markdown",
   "metadata": {},
   "source": [
    "Checking if a certain table exists in the database:"
   ]
  },
  {
   "cell_type": "code",
   "execution_count": 93,
   "metadata": {
    "ExecuteTime": {
     "end_time": "2020-02-15T19:32:21.502759Z",
     "start_time": "2020-02-15T19:32:21.488323Z"
    }
   },
   "outputs": [
    {
     "data": {
      "text/plain": [
       "False"
      ]
     },
     "execution_count": 93,
     "metadata": {},
     "output_type": "execute_result"
    }
   ],
   "source": [
    "cursor.execute(\"select exists(select * from information_schema.tables where table_name=%s)\", ('province',))\n",
    "cursor.fetchone()[0]\n"
   ]
  },
  {
   "cell_type": "markdown",
   "metadata": {},
   "source": [
    "Creating function that will be called to write all the tables in the database"
   ]
  },
  {
   "cell_type": "code",
   "execution_count": 94,
   "metadata": {
    "ExecuteTime": {
     "end_time": "2020-02-15T19:32:35.564531Z",
     "start_time": "2020-02-15T19:32:35.560565Z"
    }
   },
   "outputs": [],
   "source": [
    "def check_table_exist(tablename):\n",
    "    \n",
    "    cursor.execute(\"select exists(select * from information_schema.tables where table_name=%s)\", \n",
    "                   (tablename,))\n",
    "    \n",
    "    return(cursor.fetchone()[0]) # Return a boolean"
   ]
  },
  {
   "cell_type": "code",
   "execution_count": 80,
   "metadata": {
    "ExecuteTime": {
     "end_time": "2020-02-15T19:29:38.512382Z",
     "start_time": "2020-02-15T19:29:38.507321Z"
    }
   },
   "outputs": [],
   "source": [
    "def post_data(connection, table_to_post, tablename):\n",
    "    \n",
    "    # check if the table already exists in the database\n",
    "    \n",
    "    if check_table_exist(tablename):\n",
    "        cursor.execute(\"DROP TABLE \" + tablename + \" CASCADE\")\n",
    "    \n",
    "    cursor.execute(\"CREATE TABLE \" + tablename)"
   ]
  },
  {
   "cell_type": "markdown",
   "metadata": {},
   "source": [
    "## Create Table Individually"
   ]
  },
  {
   "cell_type": "code",
   "execution_count": 95,
   "metadata": {
    "ExecuteTime": {
     "end_time": "2020-02-15T19:32:39.537096Z",
     "start_time": "2020-02-15T19:32:39.429709Z"
    }
   },
   "outputs": [],
   "source": [
    "cursor.execute(\"\"\"\n",
    "CREATE TABLE winery (\n",
    "winery text\n",
    ")\n",
    "\"\"\")"
   ]
  },
  {
   "cell_type": "code",
   "execution_count": 97,
   "metadata": {
    "ExecuteTime": {
     "end_time": "2020-02-15T19:35:36.271146Z",
     "start_time": "2020-02-15T19:35:36.258321Z"
    }
   },
   "outputs": [],
   "source": [
    "conn.commit()"
   ]
  },
  {
   "cell_type": "code",
   "execution_count": 99,
   "metadata": {
    "ExecuteTime": {
     "end_time": "2020-02-15T19:37:43.290951Z",
     "start_time": "2020-02-15T19:37:43.277052Z"
    }
   },
   "outputs": [
    {
     "data": {
      "text/plain": [
       "True"
      ]
     },
     "execution_count": 99,
     "metadata": {},
     "output_type": "execute_result"
    }
   ],
   "source": [
    "check_table_exist('winery')"
   ]
  },
  {
   "cell_type": "markdown",
   "metadata": {},
   "source": [
    "## Close Cursor"
   ]
  },
  {
   "cell_type": "code",
   "execution_count": 85,
   "metadata": {
    "ExecuteTime": {
     "end_time": "2020-02-15T19:31:48.044933Z",
     "start_time": "2020-02-15T19:31:48.041556Z"
    }
   },
   "outputs": [],
   "source": [
    "cursor.close()"
   ]
  },
  {
   "cell_type": "markdown",
   "metadata": {},
   "source": [
    "## Closing Connection"
   ]
  },
  {
   "cell_type": "code",
   "execution_count": 86,
   "metadata": {
    "ExecuteTime": {
     "end_time": "2020-02-15T19:31:49.426062Z",
     "start_time": "2020-02-15T19:31:49.419451Z"
    }
   },
   "outputs": [],
   "source": [
    "conn.close()"
   ]
  },
  {
   "cell_type": "markdown",
   "metadata": {},
   "source": [
    "# SQL Alchemy"
   ]
  },
  {
   "cell_type": "markdown",
   "metadata": {},
   "source": [
    "## import package"
   ]
  },
  {
   "cell_type": "code",
   "execution_count": 102,
   "metadata": {
    "ExecuteTime": {
     "end_time": "2020-02-15T19:45:26.078027Z",
     "start_time": "2020-02-15T19:45:26.073965Z"
    }
   },
   "outputs": [],
   "source": [
    "from sqlalchemy import create_engine"
   ]
  },
  {
   "cell_type": "markdown",
   "metadata": {},
   "source": [
    "## Create Engine "
   ]
  },
  {
   "cell_type": "code",
   "execution_count": 142,
   "metadata": {
    "ExecuteTime": {
     "end_time": "2020-02-15T20:14:45.893350Z",
     "start_time": "2020-02-15T20:14:45.880342Z"
    }
   },
   "outputs": [],
   "source": [
    "engine = create_engine('postgresql://{}:{}@{}:{}/wine'.format(DB_USER,\n",
    "                                                              DB_PASS,\n",
    "                                                              DB_HOST,\n",
    "                                                              DB_PORT))"
   ]
  },
  {
   "cell_type": "markdown",
   "metadata": {},
   "source": [
    "## Import DF to SQL table"
   ]
  },
  {
   "cell_type": "markdown",
   "metadata": {},
   "source": [
    "### Define a function to check if a table already exists"
   ]
  },
  {
   "cell_type": "code",
   "execution_count": 158,
   "metadata": {
    "ExecuteTime": {
     "end_time": "2020-02-15T20:50:31.544158Z",
     "start_time": "2020-02-15T20:50:31.535030Z"
    }
   },
   "outputs": [],
   "source": [
    "def check_table_exist(tablename, engine):\n",
    "    check = engine.execute(\"\"\"\n",
    "    SELECT EXISTS \n",
    "    (SELECT * FROM information_schema.tables \n",
    "    WHERE table_name = %s\n",
    "    )\"\"\", \n",
    "                           (tablename,))\n",
    "    return(check.fetchone()[0])"
   ]
  },
  {
   "cell_type": "code",
   "execution_count": 188,
   "metadata": {
    "ExecuteTime": {
     "end_time": "2020-02-15T21:06:04.014602Z",
     "start_time": "2020-02-15T21:06:04.006102Z"
    }
   },
   "outputs": [
    {
     "data": {
      "text/plain": [
       "False"
      ]
     },
     "execution_count": 188,
     "metadata": {},
     "output_type": "execute_result"
    }
   ],
   "source": [
    "check_table_exist('designation', engine)"
   ]
  },
  {
   "cell_type": "markdown",
   "metadata": {},
   "source": [
    "### Define a function post_data\n",
    "\n",
    "this function will:\n",
    "\n",
    "   1) Call check_table_exist. If true, drop table\n",
    "   \n",
    "   2) Create a new table"
   ]
  },
  {
   "cell_type": "code",
   "execution_count": 190,
   "metadata": {
    "ExecuteTime": {
     "end_time": "2020-02-15T22:15:16.397737Z",
     "start_time": "2020-02-15T22:15:16.391013Z"
    }
   },
   "outputs": [],
   "source": [
    "def post_data(tablename, engine, dataframe):\n",
    "    if check_table_exist(tablename, engine):\n",
    "        \n",
    "        print('table already exists!')\n",
    "        \n",
    "        engine.execute(\"DROP TABLE {} CASCADE\".format(tablename))\n",
    "        \n",
    "        print('old table dropped!')\n",
    "    else:\n",
    "        print('table does not exists!')\n",
    "    \n",
    "    dataframe.to_sql(tablename, con = engine)\n",
    "    print('new table {} created!'.format(tablename))"
   ]
  },
  {
   "cell_type": "code",
   "execution_count": 191,
   "metadata": {
    "ExecuteTime": {
     "end_time": "2020-02-15T22:15:19.190956Z",
     "start_time": "2020-02-15T22:15:19.100839Z"
    }
   },
   "outputs": [
    {
     "name": "stdout",
     "output_type": "stream",
     "text": [
      "table already exists!\n",
      "old table dropped!\n",
      "new table variety created!\n"
     ]
    }
   ],
   "source": [
    "post_data('variety', engine, unique_variety_df)"
   ]
  },
  {
   "cell_type": "code",
   "execution_count": 192,
   "metadata": {
    "ExecuteTime": {
     "end_time": "2020-02-15T22:17:13.456611Z",
     "start_time": "2020-02-15T22:17:13.435282Z"
    }
   },
   "outputs": [
    {
     "data": {
      "text/plain": [
       "(0, 'Cabernet Sauvignon')"
      ]
     },
     "execution_count": 192,
     "metadata": {},
     "output_type": "execute_result"
    }
   ],
   "source": [
    "engine.execute(\"SELECT * FROM variety\").fetchone()"
   ]
  },
  {
   "cell_type": "code",
   "execution_count": 194,
   "metadata": {
    "ExecuteTime": {
     "end_time": "2020-02-15T23:36:34.381699Z",
     "start_time": "2020-02-15T23:36:34.375568Z"
    }
   },
   "outputs": [],
   "source": [
    "conn.close()"
   ]
  }
 ],
 "metadata": {
  "kernelspec": {
   "display_name": "Python 3",
   "language": "python",
   "name": "python3"
  },
  "language_info": {
   "codemirror_mode": {
    "name": "ipython",
    "version": 3
   },
   "file_extension": ".py",
   "mimetype": "text/x-python",
   "name": "python",
   "nbconvert_exporter": "python",
   "pygments_lexer": "ipython3",
   "version": "3.7.4"
  },
  "toc": {
   "base_numbering": 1,
   "nav_menu": {},
   "number_sections": true,
   "sideBar": true,
   "skip_h1_title": false,
   "title_cell": "Table of Contents",
   "title_sidebar": "Contents",
   "toc_cell": false,
   "toc_position": {
    "height": "calc(100% - 180px)",
    "left": "10px",
    "top": "150px",
    "width": "191.68478393554688px"
   },
   "toc_section_display": true,
   "toc_window_display": true
  },
  "varInspector": {
   "cols": {
    "lenName": 16,
    "lenType": 16,
    "lenVar": 40
   },
   "kernels_config": {
    "python": {
     "delete_cmd_postfix": "",
     "delete_cmd_prefix": "del ",
     "library": "var_list.py",
     "varRefreshCmd": "print(var_dic_list())"
    },
    "r": {
     "delete_cmd_postfix": ") ",
     "delete_cmd_prefix": "rm(",
     "library": "var_list.r",
     "varRefreshCmd": "cat(var_dic_list()) "
    }
   },
   "types_to_exclude": [
    "module",
    "function",
    "builtin_function_or_method",
    "instance",
    "_Feature"
   ],
   "window_display": false
  }
 },
 "nbformat": 4,
 "nbformat_minor": 2
}
